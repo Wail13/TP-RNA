{
 "cells": [
  {
   "cell_type": "markdown",
   "metadata": {},
   "source": [
    "# Adaline"
   ]
  },
  {
   "cell_type": "markdown",
   "metadata": {},
   "source": [
    "### Imports"
   ]
  },
  {
   "cell_type": "code",
   "execution_count": 13,
   "metadata": {
    "collapsed": false
   },
   "outputs": [],
   "source": [
    "import numpy as np\n",
    "from matplotlib.pyplot import *\n",
    "from sklearn import *\n",
    "from sklearn.datasets.samples_generator import make_blobs\n"
   ]
  },
  {
   "cell_type": "markdown",
   "metadata": {},
   "source": [
    "### Ensemble de données 2D  composé de deux classes LS  -Question1"
   ]
  },
  {
   "cell_type": "code",
   "execution_count": 6,
   "metadata": {
    "collapsed": true
   },
   "outputs": [],
   "source": [
    "M, C = make_blobs(n_samples=100, n_features=2, centers=[(5,5),(10,10)]) \n",
    "C = 2*C - 1\n",
    "\n",
    "M = np.hstack((np.ones((100, 1)), M))\n",
    "\n",
    "feature_names = np.array([\"area\", \"perimeter\"])"
   ]
  },
  {
   "cell_type": "markdown",
   "metadata": {},
   "source": [
    "### Plot avec 'Scatterd' des données (area,perimeter)-Question 2  "
   ]
  },
  {
   "cell_type": "code",
   "execution_count": 11,
   "metadata": {
    "collapsed": false
   },
   "outputs": [
    {
     "ename": "UnicodeDecodeError",
     "evalue": "'ascii' codec can't decode byte 0xc3 in position 5: ordinal not in range(128)",
     "output_type": "error",
     "traceback": [
      "\u001b[0;31m---------------------------------------------------------------------------\u001b[0m",
      "\u001b[0;31mUnicodeDecodeError\u001b[0m                        Traceback (most recent call last)",
      "\u001b[0;32m<ipython-input-11-62ad3a02943b>\u001b[0m in \u001b[0;36m<module>\u001b[0;34m()\u001b[0m\n\u001b[1;32m      2\u001b[0m \u001b[0mfigure\u001b[0m\u001b[0;34m(\u001b[0m\u001b[0;36m1\u001b[0m\u001b[0;34m)\u001b[0m\u001b[0;34m\u001b[0m\u001b[0m\n\u001b[1;32m      3\u001b[0m \u001b[0mscatter\u001b[0m\u001b[0;34m(\u001b[0m\u001b[0mM\u001b[0m\u001b[0;34m[\u001b[0m\u001b[0;34m:\u001b[0m\u001b[0;34m,\u001b[0m\u001b[0;36m1\u001b[0m\u001b[0;34m]\u001b[0m\u001b[0;34m,\u001b[0m\u001b[0mM\u001b[0m\u001b[0;34m[\u001b[0m\u001b[0;34m:\u001b[0m\u001b[0;34m,\u001b[0m\u001b[0;36m2\u001b[0m\u001b[0;34m]\u001b[0m\u001b[0;34m,\u001b[0m \u001b[0mc\u001b[0m\u001b[0;34m=\u001b[0m\u001b[0mC\u001b[0m \u001b[0;34m)\u001b[0m\u001b[0;34m\u001b[0m\u001b[0m\n\u001b[0;32m----> 4\u001b[0;31m \u001b[0mtitle\u001b[0m\u001b[0;34m(\u001b[0m\u001b[0;34m\"2 : Vérifier les données générées\"\u001b[0m\u001b[0;34m)\u001b[0m\u001b[0;34m\u001b[0m\u001b[0m\n\u001b[0m\u001b[1;32m      5\u001b[0m \u001b[0mxlabel\u001b[0m\u001b[0;34m(\u001b[0m\u001b[0mfeature_names\u001b[0m\u001b[0;34m[\u001b[0m\u001b[0;36m0\u001b[0m\u001b[0;34m]\u001b[0m\u001b[0;34m)\u001b[0m\u001b[0;34m\u001b[0m\u001b[0m\n\u001b[1;32m      6\u001b[0m \u001b[0mylabel\u001b[0m\u001b[0;34m(\u001b[0m\u001b[0mfeature_names\u001b[0m\u001b[0;34m[\u001b[0m\u001b[0;36m1\u001b[0m\u001b[0;34m]\u001b[0m\u001b[0;34m)\u001b[0m\u001b[0;34m\u001b[0m\u001b[0m\n",
      "\u001b[0;32m/Users/mac/anaconda/lib/python2.7/site-packages/matplotlib/pyplot.pyc\u001b[0m in \u001b[0;36mtitle\u001b[0;34m(s, *args, **kwargs)\u001b[0m\n\u001b[1;32m   1436\u001b[0m \u001b[0;34m\u001b[0m\u001b[0m\n\u001b[1;32m   1437\u001b[0m     \"\"\"\n\u001b[0;32m-> 1438\u001b[0;31m     \u001b[0;32mreturn\u001b[0m \u001b[0mgca\u001b[0m\u001b[0;34m(\u001b[0m\u001b[0;34m)\u001b[0m\u001b[0;34m.\u001b[0m\u001b[0mset_title\u001b[0m\u001b[0;34m(\u001b[0m\u001b[0ms\u001b[0m\u001b[0;34m,\u001b[0m \u001b[0;34m*\u001b[0m\u001b[0margs\u001b[0m\u001b[0;34m,\u001b[0m \u001b[0;34m**\u001b[0m\u001b[0mkwargs\u001b[0m\u001b[0;34m)\u001b[0m\u001b[0;34m\u001b[0m\u001b[0m\n\u001b[0m\u001b[1;32m   1439\u001b[0m \u001b[0;34m\u001b[0m\u001b[0m\n\u001b[1;32m   1440\u001b[0m \u001b[0;31m## Axis ##\u001b[0m\u001b[0;34m\u001b[0m\u001b[0;34m\u001b[0m\u001b[0m\n",
      "\u001b[0;32m/Users/mac/anaconda/lib/python2.7/site-packages/matplotlib/axes/_axes.pyc\u001b[0m in \u001b[0;36mset_title\u001b[0;34m(self, label, fontdict, loc, **kwargs)\u001b[0m\n\u001b[1;32m    170\u001b[0m             \u001b[0;34m'verticalalignment'\u001b[0m\u001b[0;34m:\u001b[0m \u001b[0;34m'baseline'\u001b[0m\u001b[0;34m,\u001b[0m\u001b[0;34m\u001b[0m\u001b[0m\n\u001b[1;32m    171\u001b[0m             'horizontalalignment': loc.lower()}\n\u001b[0;32m--> 172\u001b[0;31m         \u001b[0mtitle\u001b[0m\u001b[0;34m.\u001b[0m\u001b[0mset_text\u001b[0m\u001b[0;34m(\u001b[0m\u001b[0mlabel\u001b[0m\u001b[0;34m)\u001b[0m\u001b[0;34m\u001b[0m\u001b[0m\n\u001b[0m\u001b[1;32m    173\u001b[0m         \u001b[0mtitle\u001b[0m\u001b[0;34m.\u001b[0m\u001b[0mupdate\u001b[0m\u001b[0;34m(\u001b[0m\u001b[0mdefault\u001b[0m\u001b[0;34m)\u001b[0m\u001b[0;34m\u001b[0m\u001b[0m\n\u001b[1;32m    174\u001b[0m         \u001b[0;32mif\u001b[0m \u001b[0mfontdict\u001b[0m \u001b[0;32mis\u001b[0m \u001b[0;32mnot\u001b[0m \u001b[0mNone\u001b[0m\u001b[0;34m:\u001b[0m\u001b[0;34m\u001b[0m\u001b[0m\n",
      "\u001b[0;32m/Users/mac/anaconda/lib/python2.7/site-packages/matplotlib/text.pyc\u001b[0m in \u001b[0;36mset_text\u001b[0;34m(self, s)\u001b[0m\n\u001b[1;32m   1204\u001b[0m         \u001b[0mACCEPTS\u001b[0m\u001b[0;34m:\u001b[0m \u001b[0mstring\u001b[0m \u001b[0;32mor\u001b[0m \u001b[0manything\u001b[0m \u001b[0mprintable\u001b[0m \u001b[0;32mwith\u001b[0m \u001b[0;34m'%s'\u001b[0m \u001b[0mconversion\u001b[0m\u001b[0;34m.\u001b[0m\u001b[0;34m\u001b[0m\u001b[0m\n\u001b[1;32m   1205\u001b[0m         \"\"\"\n\u001b[0;32m-> 1206\u001b[0;31m         \u001b[0mself\u001b[0m\u001b[0;34m.\u001b[0m\u001b[0m_text\u001b[0m \u001b[0;34m=\u001b[0m \u001b[0;34m'%s'\u001b[0m \u001b[0;34m%\u001b[0m \u001b[0;34m(\u001b[0m\u001b[0ms\u001b[0m\u001b[0;34m,\u001b[0m\u001b[0;34m)\u001b[0m\u001b[0;34m\u001b[0m\u001b[0m\n\u001b[0m\u001b[1;32m   1207\u001b[0m         \u001b[0mself\u001b[0m\u001b[0;34m.\u001b[0m\u001b[0mstale\u001b[0m \u001b[0;34m=\u001b[0m \u001b[0mTrue\u001b[0m\u001b[0;34m\u001b[0m\u001b[0m\n\u001b[1;32m   1208\u001b[0m \u001b[0;34m\u001b[0m\u001b[0m\n",
      "\u001b[0;31mUnicodeDecodeError\u001b[0m: 'ascii' codec can't decode byte 0xc3 in position 5: ordinal not in range(128)"
     ]
    },
    {
     "data": {
      "image/png": "[encoded data removed]",
      "text/plain": [
       "<matplotlib.figure.Figure at 0x10d6d6b90>"
      ]
     },
     "metadata": {},
     "output_type": "display_data"
    }
   ],
   "source": [
    "%matplotlib inline \n",
    "figure(1)\n",
    "scatter(M[:,1],M[:,2], c=C )\n",
    "title(\"2 : Vérifier les données générées\")\n",
    "xlabel(feature_names[0])\n",
    "ylabel(feature_names[1])\n",
    "show()"
   ]
  },
  {
   "cell_type": "markdown",
   "metadata": {},
   "source": [
    "### Calculer l'ecart entre la sortie désirée et la sortie calculée-Question 3"
   ]
  },
  {
   "cell_type": "code",
   "execution_count": 27,
   "metadata": {
    "collapsed": true
   },
   "outputs": [],
   "source": [
    "\n",
    "# X : Entrée\n",
    "# W : Poids\n",
    "# d : Sortie désirée\n",
    "\n",
    "def err_adal (X, W, d):\n",
    "    y = W.dot(X)\n",
    "    ecart = d - y\n",
    "    return ecart[0]\n"
   ]
  },
  {
   "cell_type": "markdown",
   "metadata": {},
   "source": [
    "### Calcule du gradient-Question 4"
   ]
  },
  {
   "cell_type": "code",
   "execution_count": 28,
   "metadata": {
    "collapsed": true
   },
   "outputs": [],
   "source": [
    "\n",
    "# X : Entrée\n",
    "# e : Valeur de l'écart\n",
    " \n",
    "def grad_adal (X, e):\n",
    "    grad = np.zeros(X.size) \n",
    "    grad = -2*e*X\n",
    "    return grad"
   ]
  },
  {
   "cell_type": "markdown",
   "metadata": {},
   "source": [
    "### MAJ les poids des connexions dans l'Adaline en fonction du gradient-Question 5"
   ]
  },
  {
   "cell_type": "code",
   "execution_count": 29,
   "metadata": {
    "collapsed": true
   },
   "outputs": [],
   "source": [
    " \n",
    "# W : Poids\n",
    "# p : pas du gradient\n",
    "# R : Approximation du gradient\n",
    " \n",
    "def adapt_adal (W, p, R):\n",
    "    majW = np.zeros(W.size)\n",
    "    majW = W - p*R\n",
    "    return majW\n"
   ]
  },
  {
   "cell_type": "markdown",
   "metadata": {},
   "source": [
    "### Apprentissage de l'Adaline avec un pas du gradient p=0,1 -Question 6"
   ]
  },
  {
   "cell_type": "code",
   "execution_count": 18,
   "metadata": {
    "collapsed": false
   },
   "outputs": [
    {
     "name": "stdout",
     "output_type": "stream",
     "text": [
      "[ -1.76023016 -17.48250158 -19.69725329]\n"
     ]
    }
   ],
   "source": [
    "def initW () :\n",
    "    W = np.zeros((1,3))\n",
    "    W[0,0] = 0.3\n",
    "    W[0,1] = 0.8\n",
    "    W[0,2] = 0.4\n",
    "    return W\n",
    "    \n",
    "\n",
    "# iters : Nombre d'itérations\n",
    "# p : pas du gradient\n",
    "\n",
    "def adaline (X, d, p, iters):\n",
    "    W = initW().reshape(1,3)\n",
    "   # X = np.hstack((np.ones((100, 1)), X))\n",
    "    TX = np.transpose(X)\n",
    "\n",
    "    for i in range(0, iters) :\n",
    "        err = err_adal (TX[:,i%d.size], W[0,:], d)\n",
    "        grad = grad_adal (X[i%d.size,:], err)    \n",
    "        adapt = adapt_adal(W, p, grad)\n",
    "    return adapt[0]\n",
    "\n",
    "ada = adaline (M, C, 0.1, 1000)\n",
    "print ada\n"
   ]
  },
  {
   "cell_type": "markdown",
   "metadata": {},
   "source": [
    "### Representation graphique -Question 7"
   ]
  },
  {
   "cell_type": "code",
   "execution_count": 19,
   "metadata": {
    "collapsed": false
   },
   "outputs": [
    {
     "data": {
      "image/png": "[encoded data removed]",
      "text/plain": [
       "<matplotlib.figure.Figure at 0x106b59810>"
      ]
     },
     "metadata": {},
     "output_type": "display_data"
    }
   ],
   "source": [
    "\n",
    "x = np.array([-20,20,30])\n",
    "\n",
    "figure(2)\n",
    "plot(x,-(ada[1]*x/ada[2]) - (ada[0]/ada[2]));\n",
    "#plot(x, ada[1]*x + ada[2]*x + ada[0]);\n",
    "scatter(M[:,1],M[:,2], c=C )\n",
    "title(\"Dessiner la droite Adaline\")\n",
    "xlabel(feature_names[0])\n",
    "ylabel(feature_names[1])\n",
    "show()\n"
   ]
  },
  {
   "cell_type": "markdown",
   "metadata": {},
   "source": [
    "# Perceptron "
   ]
  },
  {
   "cell_type": "markdown",
   "metadata": {},
   "source": [
    "### Sortie calculée par le perceptron -Question 8"
   ]
  },
  {
   "cell_type": "code",
   "execution_count": 30,
   "metadata": {
    "collapsed": true
   },
   "outputs": [],
   "source": [
    "# f : fonction \n",
    "# X : Entrée\n",
    "# W : Poids\n",
    "# d : Sortie désirée\n",
    "\n",
    "def out_percep (X, W):\n",
    "    y = W.dot(X)\n",
    "    if y > 0 :\n",
    "        return 1\n",
    "    if y > 0 :\n",
    "        return -1"
   ]
  },
  {
   "cell_type": "markdown",
   "metadata": {},
   "source": [
    "### Calculer une approximation du gradient -Question 9"
   ]
  },
  {
   "cell_type": "code",
   "execution_count": 21,
   "metadata": {
    "collapsed": false
   },
   "outputs": [
    {
     "data": {
      "text/plain": [
       "array([ 1.        ,  1.        ,  8.54295594,  8.93772167])"
      ]
     },
     "execution_count": 21,
     "metadata": {},
     "output_type": "execute_result"
    }
   ],
   "source": [
    "# X : Entrée\n",
    "# d : Sortie désirée\n",
    "# Et on considère la fonction de transition phi(X, k)=X[k]\n",
    " \n",
    "def grad_percep (X, d):\n",
    "    grad = np.zeros(X.size) \n",
    "    grad = X*d\n",
    "    return grad\n",
    "\n",
    "\n",
    "N = np.hstack((np.ones((100, 1)), M))\n",
    "grad_percep(N[1%C.size,:], C[1])"
   ]
  },
  {
   "cell_type": "markdown",
   "metadata": {},
   "source": [
    "### MAJ les poids des connexions-Question 10"
   ]
  },
  {
   "cell_type": "code",
   "execution_count": 22,
   "metadata": {
    "collapsed": true
   },
   "outputs": [],
   "source": [
    " # W : Poids\n",
    "# s : Sortie perceptron\n",
    "# p : pas du gradient\n",
    "# R : Approximation du gradient\n",
    "# d : Sortie désirée\n",
    "\n",
    "def adapt_percep (W, s, p, R, d):\n",
    "    majW = np.zeros(W.size)\n",
    "    if s == d :\n",
    "        majW = W\n",
    "    if s != d :\n",
    "        majW = W + p*R\n",
    "    return majW"
   ]
  },
  {
   "cell_type": "markdown",
   "metadata": {},
   "source": [
    "### Apprentisage du modèle Perceptron -Question 11"
   ]
  },
  {
   "cell_type": "code",
   "execution_count": 31,
   "metadata": {
    "collapsed": false
   },
   "outputs": [
    {
     "name": "stdout",
     "output_type": "stream",
     "text": [
      "[ 0.3  0.8  0.4]\n"
     ]
    }
   ],
   "source": [
    "# p : pas du gradient\n",
    "# R : Approximation du gradient\n",
    "# iters : Nombre d'itérations\n",
    "# p : pas du gradient\n",
    "\n",
    "def perceptron (X, d, p, iters):\n",
    "    W = initW().reshape(1,3)\n",
    "    TX = np.transpose(X)\n",
    "\n",
    "    for i in range(0, iters) :\n",
    "        out = out_percep (TX[:,i%d.size], W[0,:])\n",
    "        grad = grad_percep (X[i%d.size,:], d[i%d.size])    \n",
    "        adapt = adapt_percep(W, out, p, grad, d[i%d.size])\n",
    "    return adapt[0]\n",
    "    \n",
    "    \n",
    "perc = perceptron (M, C, 0.1, 1000)\n",
    "print perc"
   ]
  },
  {
   "cell_type": "markdown",
   "metadata": {},
   "source": [
    "### Représentation graphique de l'ensemble des echantillons et de l'hyperplan séparant les deux classes-Question 12"
   ]
  },
  {
   "cell_type": "code",
   "execution_count": 32,
   "metadata": {
    "collapsed": false
   },
   "outputs": [
    {
     "data": {
      "image/png": "[encoded data removed]",
      "text/plain": [
       "<matplotlib.figure.Figure at 0x1075b57d0>"
      ]
     },
     "metadata": {},
     "output_type": "display_data"
    }
   ],
   "source": [
    "x = np.array([-5,15])\n",
    "figure(3)\n",
    "plot(x,-(perc[1]*x/perc[2]) - (perc[0]/perc[2]));\n",
    "scatter(M[:,0],M[:,1], c=C )\n",
    "title(\"Dessiner la droite du Perceptron\")\n",
    "xlabel(feature_names[0])\n",
    "ylabel(feature_names[1])\n",
    "show()"
   ]
  },
  {
   "cell_type": "markdown",
   "metadata": {},
   "source": [
    "### L'ajout de 10 points de telle facon que le problème reste LS-Question 13"
   ]
  },
  {
   "cell_type": "code",
   "execution_count": 25,
   "metadata": {
    "collapsed": false
   },
   "outputs": [
    {
     "data": {
      "text/plain": [
       "(110,)"
      ]
     },
     "execution_count": 25,
     "metadata": {},
     "output_type": "execute_result"
    }
   ],
   "source": [
    "#################\n",
    "#### Question 13 : \n",
    " \n",
    "M1, C1 = make_blobs(n_samples=10, n_features=1, centers=[(10,0)]) \n",
    "C1 = C1*0 - 1\n",
    "M1 = np.hstack((np.ones((10, 1)), M1))\n",
    "\n",
    "M = np.vstack((M, M1))\n",
    "C = np.hstack((C, C1))    \n",
    "\n",
    "M.shape\n",
    "C.shape"
   ]
  },
  {
   "cell_type": "markdown",
   "metadata": {},
   "source": [
    "## Perceptron & Adaline "
   ]
  },
  {
   "cell_type": "code",
   "execution_count": 26,
   "metadata": {
    "collapsed": false
   },
   "outputs": [
    {
     "data": {
      "image/png": "[encoded data removed]",
      "text/plain": [
       "<matplotlib.figure.Figure at 0x10749f150>"
      ]
     },
     "metadata": {},
     "output_type": "display_data"
    }
   ],
   "source": [
    "x = np.array([-5,15])\n",
    "ada14 = adaline (M, C, 0.1, 1000)\n",
    "perc14 = perceptron (M, C, 0.1, 1000)\n",
    "figure(4)\n",
    "plot(x,-(perc14[1]*x/perc14[2]) - (perc14[0]/perc14[2]));\n",
    "plot(x,-(ada14[1]*x/ada14[2]) - (ada14[0]/ada14[2]));\n",
    "scatter(M[:,1],M[:,2], c=C )\n",
    "title(\"Dessiner la droite du Perceptron\")\n",
    "xlabel(feature_names[0])\n",
    "ylabel(feature_names[1])\n",
    "show()\n"
   ]
  },
  {
   "cell_type": "code",
   "execution_count": null,
   "metadata": {
    "collapsed": true
   },
   "outputs": [],
   "source": []
  }
 ],
 "metadata": {
  "kernelspec": {
   "display_name": "Python 2",
   "language": "python",
   "name": "python2"
  },
  "language_info": {
   "codemirror_mode": {
    "name": "ipython",
    "version": 2
   },
   "file_extension": ".py",
   "mimetype": "text/x-python",
   "name": "python",
   "nbconvert_exporter": "python",
   "pygments_lexer": "ipython2",
   "version": "2.7.11"
  }
 },
 "nbformat": 4,
 "nbformat_minor": 0
}
